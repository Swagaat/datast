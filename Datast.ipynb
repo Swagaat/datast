{
  "nbformat": 4,
  "nbformat_minor": 0,
  "metadata": {
    "colab": {
      "provenance": [],
      "authorship_tag": "ABX9TyPx9eDwDJqzH1eqznVaMk/Y",
      "include_colab_link": true
    },
    "kernelspec": {
      "name": "python3",
      "display_name": "Python 3"
    },
    "language_info": {
      "name": "python"
    }
  },
  "cells": [
    {
      "cell_type": "markdown",
      "metadata": {
        "id": "view-in-github",
        "colab_type": "text"
      },
      "source": [
        "<a href=\"https://colab.research.google.com/github/Swagaat/datast/blob/main/Datast.ipynb\" target=\"_parent\"><img src=\"https://colab.research.google.com/assets/colab-badge.svg\" alt=\"Open In Colab\"/></a>"
      ]
    },
    {
      "cell_type": "code",
      "source": [
        "#Solution-1\n",
        "class Node:\n",
        "    def __init__(self, val=0, next=None):\n",
        "        self.val = val\n",
        "        self.next = next\n",
        "\n",
        "class LinkedList:\n",
        "    def __init__(self, head=None):\n",
        "        self.head = head\n",
        "        \n",
        "    def delete_node(self, val):\n",
        "        dummy = Node(0, self.head)\n",
        "        prev = dummy\n",
        "        \n",
        "        while self.head:\n",
        "            if self.head.val == val:\n",
        "                prev.next = self.head.next\n",
        "            else:\n",
        "                prev = self.head\n",
        "            self.head = self.head.next\n",
        "        \n",
        "        self.head = dummy.next\n",
        "\n",
        "def delete_node_value(head, val):\n",
        "    linked_list = LinkedList(head)\n",
        "    linked_list.delete_node(val)\n",
        "    return linked_list.head\n",
        "    # create linked list with values 1, 2, 1, 3\n",
        "a = Node(1, Node(2, Node(1, Node(3))))\n",
        "\n",
        "# delete node with value 1\n",
        "new_head = delete_node_value(a, 1)\n",
        "\n",
        "# new linked list is 2 -> 3\n",
        "while new_head:\n",
        "    print(new_head.val)\n",
        "    new_head = new_head.next\n",
        "\n"
      ],
      "metadata": {
        "colab": {
          "base_uri": "https://localhost:8080/"
        },
        "id": "SZJ6EXmrsH5i",
        "outputId": "42fe37ca-1fc6-43fc-ac26-d479ac1f64cc"
      },
      "execution_count": null,
      "outputs": [
        {
          "output_type": "stream",
          "name": "stdout",
          "text": [
            "2\n",
            "3\n"
          ]
        }
      ]
    },
    {
      "cell_type": "code",
      "source": [
        "#Solution-3\n",
        "class Node:\n",
        "    def __init__(self, val, next=None):\n",
        "        self.val = val\n",
        "        self.next = next\n",
        "        \n",
        "class LinkedList:\n",
        "    def __init__(self, head=None):\n",
        "        self.head = head\n",
        "        \n",
        "    def delete_duplicates(self):\n",
        "        seen = set()\n",
        "        dummy = Node(0, self.head)\n",
        "        prev = dummy\n",
        "        \n",
        "        while self.head:\n",
        "            if self.head.val in seen:\n",
        "                prev.next = self.head.next\n",
        "            else:\n",
        "                seen.add(self.head.val)\n",
        "                prev = self.head\n",
        "            self.head = self.head.next\n",
        "        \n",
        "        self.head = dummy.next\n",
        "\n",
        "def delete_dupl_node(head):\n",
        "    linked_list = LinkedList(head)\n",
        "    linked_list.delete_duplicates()\n",
        "    return linked_list.head\n",
        "# create linked list with values 1, 2, 1, 3, 2\n",
        "a = Node(1, Node(2, Node(1, Node(3, Node(2)))))\n",
        "\n",
        "# delete duplicates\n",
        "new_head = delete_dupl_node(a)\n",
        "\n",
        "# new linked list is 3\n",
        "while new_head:\n",
        "    print(new_head.val)\n",
        "    new_head = new_head.next\n"
      ],
      "metadata": {
        "colab": {
          "base_uri": "https://localhost:8080/"
        },
        "id": "5a5CqEmGuWKA",
        "outputId": "17594dad-2cfa-47e8-b783-2278a250a5cb"
      },
      "execution_count": null,
      "outputs": [
        {
          "output_type": "stream",
          "name": "stdout",
          "text": [
            "1\n",
            "2\n",
            "3\n"
          ]
        }
      ]
    },
    {
      "cell_type": "code",
      "source": [
        "# Solution-4\n",
        "class Node:\n",
        "    def __init__(self, val, next=None):\n",
        "        self.val = val\n",
        "        self.next = next\n",
        "        \n",
        "class LinkedList:\n",
        "    def __init__(self, head=None):\n",
        "        self.head = head\n",
        "        \n",
        "    def reverse(self):\n",
        "        prev = None\n",
        "        curr = self.head\n",
        "        while curr:\n",
        "            temp = curr.next\n",
        "            curr.next = prev\n",
        "            prev = curr\n",
        "            curr = temp\n",
        "        self.head = prev\n",
        "\n",
        "def reverse_linked_list(head):\n",
        "    linked_list = LinkedList(head)\n",
        "    linked_list.reverse()\n",
        "    return linked_list.head\n",
        "# create linked list with values 1, 2, 3\n",
        "a = Node(1, Node(2, Node(3)))\n",
        "\n",
        "# reverse linked list\n",
        "new_head = reverse_linked_list(a)\n",
        "\n",
        "# new linked list is 3, 2, 1\n",
        "while new_head:\n",
        "    print(new_head.val)\n",
        "    new_head = new_head.next\n",
        "\n"
      ],
      "metadata": {
        "colab": {
          "base_uri": "https://localhost:8080/"
        },
        "id": "yG_-YKx2u3cM",
        "outputId": "9420f365-06cd-4d07-e63b-9f43f9d091e2"
      },
      "execution_count": null,
      "outputs": [
        {
          "output_type": "stream",
          "name": "stdout",
          "text": [
            "3\n",
            "2\n",
            "1\n"
          ]
        }
      ]
    },
    {
      "cell_type": "code",
      "source": [
        "#Solution-5\n",
        "class Node:\n",
        "    def __init__(self, val, next=None):\n",
        "        self.val = val\n",
        "        self.next = next\n",
        "        \n",
        "def average_list(head):\n",
        "    sum = 0\n",
        "    node = head\n",
        "    length = 0\n",
        "    while node:\n",
        "        sum += node.val\n",
        "        length += 1\n",
        "        node = node.next\n",
        "        \n",
        "    return sum / length\n",
        "\n",
        "# Example usage:\n",
        "head = Node(1, Node(2, Node(3)))\n",
        "result = average_list(head)\n",
        "print(\"The average value is:\", result)\n"
      ],
      "metadata": {
        "colab": {
          "base_uri": "https://localhost:8080/"
        },
        "id": "NJl_X5dywCD7",
        "outputId": "fde18626-7c94-4ed7-ebbf-ae8f86c030a9"
      },
      "execution_count": null,
      "outputs": [
        {
          "output_type": "stream",
          "name": "stdout",
          "text": [
            "The average value is: 2.0\n"
          ]
        }
      ]
    }
  ]
}