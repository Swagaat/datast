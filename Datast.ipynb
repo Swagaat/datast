{
  "nbformat": 4,
  "nbformat_minor": 0,
  "metadata": {
    "colab": {
      "provenance": [],
      "authorship_tag": "ABX9TyPN7osaBvKoWojZpSx9/bRC",
      "include_colab_link": true
    },
    "kernelspec": {
      "name": "python3",
      "display_name": "Python 3"
    },
    "language_info": {
      "name": "python"
    }
  },
  "cells": [
    {
      "cell_type": "markdown",
      "metadata": {
        "id": "view-in-github",
        "colab_type": "text"
      },
      "source": [
        "<a href=\"https://colab.research.google.com/github/Swagaat/datast/blob/main/Datast.ipynb\" target=\"_parent\"><img src=\"https://colab.research.google.com/assets/colab-badge.svg\" alt=\"Open In Colab\"/></a>"
      ]
    },
    {
      "cell_type": "code",
      "execution_count": 4,
      "metadata": {
        "id": "m9EUnMDpjqbW"
      },
      "outputs": [],
      "source": [
        "class Node:\n",
        "    def __init__(self, val, next=None):\n",
        "        self.val = val\n",
        "        self.next = next\n",
        "        \n",
        "def delete_node_value(head):\n",
        "    seen = set()\n",
        "    dummy = Node(0, head)\n",
        "    prev = dummy\n",
        "    \n",
        "    while head:\n",
        "        if head.val in seen:\n",
        "            prev.next = head.next\n",
        "        else:\n",
        "            seen.add(head.val)\n",
        "            prev = head\n",
        "        head = head.next\n",
        "        \n",
        "    return dummy.next\n"
      ]
    },
    {
      "cell_type": "code",
      "source": [
        "class Node:\n",
        "    def __init__(self, val, next=None):\n",
        "        self.val = val\n",
        "        self.next = next\n",
        "        \n",
        "def delete_dupl_node(head):\n",
        "    seen = set()\n",
        "    dummy = Node(0, head)\n",
        "    prev = dummy\n",
        "    \n",
        "    while head:\n",
        "        if head.val in seen:\n",
        "            prev.next = head.next\n",
        "        else:\n",
        "            seen.add(head.val)\n",
        "            prev = head\n",
        "        head = head.next\n",
        "        \n",
        "    return dummy.next\n"
      ],
      "metadata": {
        "id": "8MpWC_WLkLFr"
      },
      "execution_count": null,
      "outputs": []
    },
    {
      "cell_type": "code",
      "source": [
        "class Node:\n",
        "    def __init__(self, val, next=None):\n",
        "        self.val = val\n",
        "        self.next = next\n",
        "        \n",
        "def reverse_node(head):\n",
        "    prev = None\n",
        "    current = head\n",
        "    \n",
        "    while current:\n",
        "        temp = current.next\n",
        "        current.next = prev\n",
        "        prev = current\n",
        "        current = temp\n",
        "        \n",
        "    return prev\n"
      ],
      "metadata": {
        "id": "0anJ7jrLkNAI"
      },
      "execution_count": 2,
      "outputs": []
    },
    {
      "cell_type": "code",
      "source": [
        "class Node:\n",
        "    def __init__(self, val, next=None):\n",
        "        self.val = val\n",
        "        self.next = next\n",
        "        \n",
        "def average_list(head):\n",
        "    sum = 0\n",
        "    count = 0\n",
        "    \n",
        "    while head:\n",
        "        sum += head.val\n",
        "        count += 1\n",
        "        head = head.next\n",
        "        \n",
        "    return sum / count\n"
      ],
      "metadata": {
        "id": "h2ndX8gpkN7V"
      },
      "execution_count": null,
      "outputs": []
    },
    {
      "cell_type": "code",
      "source": [
        "class Node:\n",
        "    def __init__(self, val, next=None):\n",
        "        self.val = val\n",
        "        self.next = next\n",
        "        \n",
        "def average_list(head):\n",
        "    sum = 0\n",
        "    node = head\n",
        "    while node:\n",
        "        sum += node.val\n",
        "        node = node.next\n",
        "    length = 0\n",
        "    node = head\n",
        "    while node:\n",
        "        length += 1\n",
        "        node = node.next\n",
        "        \n",
        "    return sum / length\n"
      ],
      "metadata": {
        "id": "ry1V68tSkQRE"
      },
      "execution_count": 3,
      "outputs": []
    }
  ]
}